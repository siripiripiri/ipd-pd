{
 "cells": [
  {
   "cell_type": "markdown",
   "metadata": {},
   "source": [
    "import pandas as pd\n",
    "import numpy as np\n",
    "import matplotlib.pylab as plt\n",
    "import seaborn as sns\n",
    "from glob import glob\n",
    "import librosa\n",
    "import librosa.display\n",
    "import IPython.display as ipd\n",
    "import pyAudioAnalysis\n",
    "from itertools import cycle\n",
    "from pyo import *\n",
    "import soundfile as sf\n",
    "from pydub import AudioSegment\n",
    "import io\n"
   ]
  },
  {
   "cell_type": "markdown",
   "metadata": {},
   "source": [
    "Installing Dependencies"
   ]
  },
  {
   "cell_type": "code",
   "execution_count": null,
   "metadata": {
    "scrolled": true
   },
   "outputs": [
    {
     "name": "stdout",
     "output_type": "stream",
     "text": [
      "Requirement already satisfied: matplotlib in c:\\users\\leena\\anaconda3\\lib\\site-packages (3.8.2)\n",
      "Requirement already satisfied: pillow>=8 in c:\\users\\leena\\anaconda3\\lib\\site-packages (from matplotlib) (9.4.0)\n",
      "Requirement already satisfied: python-dateutil>=2.7 in c:\\users\\leena\\anaconda3\\lib\\site-packages (from matplotlib) (2.8.2)\n",
      "Requirement already satisfied: cycler>=0.10 in c:\\users\\leena\\anaconda3\\lib\\site-packages (from matplotlib) (0.12.1)\n",
      "Requirement already satisfied: pyparsing>=2.3.1 in c:\\users\\leena\\anaconda3\\lib\\site-packages (from matplotlib) (3.1.1)\n",
      "Requirement already satisfied: numpy<2,>=1.21 in c:\\users\\leena\\anaconda3\\lib\\site-packages (from matplotlib) (1.26.2)\n",
      "Requirement already satisfied: fonttools>=4.22.0 in c:\\users\\leena\\anaconda3\\lib\\site-packages (from matplotlib) (4.46.0)\n",
      "Requirement already satisfied: kiwisolver>=1.3.1 in c:\\users\\leena\\anaconda3\\lib\\site-packages (from matplotlib) (1.4.5)\n",
      "Requirement already satisfied: packaging>=20.0 in c:\\users\\leena\\anaconda3\\lib\\site-packages (from matplotlib) (23.0)\n",
      "Requirement already satisfied: contourpy>=1.0.1 in c:\\users\\leena\\anaconda3\\lib\\site-packages (from matplotlib) (1.2.0)\n",
      "Requirement already satisfied: six>=1.5 in c:\\users\\leena\\anaconda3\\lib\\site-packages (from python-dateutil>=2.7->matplotlib) (1.16.0)\n",
      "Note: you may need to restart the kernel to use updated packages.\n"
     ]
    }
   ],
   "source": [
    "%pip install matplotlib\n",
    "%pip install seaborn\n",
    "%pip install librosa\n",
    "%pip install IPython\n",
    "%pip install pyAudioAnalysis\n",
    "%pip install pydub\n",
    "%pip install pyo"
   ]
  },
  {
   "cell_type": "markdown",
   "metadata": {},
   "source": [
    "Loading Audio data"
   ]
  },
  {
   "cell_type": "code",
   "execution_count": 54,
   "metadata": {},
   "outputs": [],
   "source": [
    "audio=ipd.Audio('trial1.mp3')"
   ]
  },
  {
   "cell_type": "code",
   "execution_count": null,
   "metadata": {},
   "outputs": [],
   "source": [
    "y, sr=librosa.load('C:\\\\Users\\\\Leena\\\\Downloads\\\\trial1.mp3')\n",
    "print(y)"
   ]
  },
  {
   "cell_type": "markdown",
   "metadata": {},
   "source": [
    "Plotting audio data"
   ]
  },
  {
   "cell_type": "code",
   "execution_count": null,
   "metadata": {},
   "outputs": [],
   "source": [
    "pd.Series(y).plot(figsize=(10, 5),lw=1,title=\"Raw Audio Samples\")"
   ]
  },
  {
   "cell_type": "markdown",
   "metadata": {},
   "source": [
    "Trimmed audio data"
   ]
  },
  {
   "cell_type": "code",
   "execution_count": null,
   "metadata": {},
   "outputs": [],
   "source": [
    "y_trimmed=librosa.effects.trim(y)\n",
    "pd.Series(y).plot(figsize=(10, 5),lw=1,title=\"Trimmed Audio Samples\")\n"
   ]
  },
  {
   "cell_type": "code",
   "execution_count": null,
   "metadata": {},
   "outputs": [],
   "source": [
    "d=librosa.stft(y)\n",
    "s_db=librosa.amplitude_to_db(np.abs(d),ref=np.max)\n",
    "s_db.shape"
   ]
  },
  {
   "cell_type": "code",
   "execution_count": null,
   "metadata": {},
   "outputs": [],
   "source": [
    "fig, ax= plt.subplots(figsize=(10,5))\n",
    "img=librosa.display.specshow(s_db,x_axis=\"time\",y_axis=\"log\",ax=ax)\n",
    "ax.set_title(\"Spectogram Example\", fontsize=20)\n",
    "fig.colorbar(img,ax=ax,format=f'%0.2f')"
   ]
  },
  {
   "cell_type": "markdown",
   "metadata": {},
   "source": [
    "MELS SPECTRUM BELOW "
   ]
  },
  {
   "cell_type": "code",
   "execution_count": null,
   "metadata": {},
   "outputs": [],
   "source": [
    "S = librosa.feature.melspectrogram(y=y,sr=sr,n_mels=128 * 2,)\n",
    "S_db_mel = librosa.amplitude_to_db(S, ref=np.max)\n",
    "\n",
    "\n",
    "\n",
    "fig, ax = plt.subplots(figsize=(10, 5))\n",
    "img = librosa.display.specshow(S_db_mel,\n",
    "                              x_axis='time',\n",
    "                              y_axis='log',\n",
    "                              ax=ax)\n",
    "ax.set_title('Mel Spectogram Example', fontsize=20)\n",
    "fig.colorbar(img, ax=ax, format=f'%0.2f')\n",
    "plt.show()"
   ]
  },
  {
   "cell_type": "markdown",
   "metadata": {},
   "source": [
    "Feature Extraction:"
   ]
  },
  {
   "cell_type": "markdown",
   "metadata": {},
   "source": [
    "Jitter "
   ]
  },
  {
   "cell_type": "code",
   "execution_count": null,
   "metadata": {},
   "outputs": [],
   "source": [
    "filename=\"C:\\\\Users\\\\Leena\\\\Downloads\\\\trial1.mp3\"\n",
    "y, sr = librosa.load(filename, sr=None)\n",
    "\n",
    "# Extract pitch (fundamental frequency) using the SchmittTrigger algorithm\n",
    "f0, voiced_flag, voiced_probs = librosa.pyin(y, fmin=librosa.note_to_hz('C2'), fmax=librosa.note_to_hz('C7'))\n",
    "\n",
    "# Calculate jitter from the pitch values\n",
    "jitter = np.mean(np.abs(np.diff(f0)))\n",
    "\n",
    "# Print or use jitter as needed\n",
    "print(\"Jitter value:\", jitter)"
   ]
  },
  {
   "cell_type": "markdown",
   "metadata": {},
   "source": [
    "Shimmer"
   ]
  },
  {
   "cell_type": "code",
   "execution_count": 66,
   "metadata": {},
   "outputs": [
    {
     "name": "stdout",
     "output_type": "stream",
     "text": [
      "Shimmer value: 0.0017069288\n"
     ]
    }
   ],
   "source": [
    "y, sr = librosa.load(filename, sr=None)\n",
    "\n",
    "# Calculate the amplitude envelope\n",
    "amplitude_envelope = np.abs(librosa.effects.preemphasis(y))\n",
    "\n",
    "# Calculate shimmer from the amplitude envelope\n",
    "shimmer = np.mean(np.abs(np.diff(amplitude_envelope)))\n",
    "\n",
    "# Print or use shimmer as needed\n",
    "print(\"Shimmer value:\", shimmer)"
   ]
  },
  {
   "cell_type": "markdown",
   "metadata": {},
   "source": [
    "Pitch Period Entropy (PPE)"
   ]
  },
  {
   "cell_type": "code",
   "execution_count": null,
   "metadata": {},
   "outputs": [],
   "source": [
    "\n",
    "\n",
    "audio_path = 'C:\\\\Users\\\\Leena\\\\Downloads\\\\trial1.mp3'\n",
    "y, sr = librosa.load(audio_path)\n",
    "\n",
    "pitch, magnitudes = librosa.core.piptrack(y=y, sr=sr)\n",
    "\n",
    "# Calculate pitch period entropy\n",
    "pitch_histogram, _ = np.histogram(pitch.flatten(), bins='auto', density=True)\n",
    "pitch_period_entropy = -np.sum(pitch_histogram * np.log2(pitch_histogram + 1e-10))\n",
    "\n",
    "plt.figure(figsize=(12, 8))\n",
    "librosa.display.specshow(librosa.amplitude_to_db(magnitudes, ref=np.max), y_axis='log', x_axis='time')\n",
    "plt.colorbar()\n",
    "plt.title('Spectrogram with Pitch Periods')\n",
    "plt.show()\n",
    "\n",
    "print(f'Pitch Period Entropy: {pitch_period_entropy}')\n"
   ]
  },
  {
   "cell_type": "markdown",
   "metadata": {},
   "source": [
    "Spread2 Value"
   ]
  },
  {
   "cell_type": "code",
   "execution_count": null,
   "metadata": {
    "scrolled": true
   },
   "outputs": [],
   "source": [
    "\n",
    "def calculate_spread2(audio_file):\n",
    "    y, sr = librosa.load(audio_file, sr=None)\n",
    "    pitches, magnitudes = librosa.core.piptrack(y=y)\n",
    "    pitch_contour = []\n",
    "    for frame in pitches.T:\n",
    "        nonzero_values = frame[frame > 0]\n",
    "        if len(nonzero_values) > 0:\n",
    "            pitch_contour.append(np.mean(nonzero_values))\n",
    "        else:\n",
    "            pitch_contour.append(0)\n",
    "\n",
    "    # Calculate Spread2\n",
    "    spread2 = np.std(np.diff(pitch_contour))\n",
    "\n",
    "    return spread2\n",
    "\n",
    "audio_file_path = 'C:\\\\Users\\\\Leena\\\\Downloads\\\\trial1.mp3'\n",
    "spread2_value = calculate_spread2(audio_file_path)\n",
    "print(\"Spread2 Value:\", spread2_value)"
   ]
  },
  {
   "cell_type": "markdown",
   "metadata": {},
   "source": [
    "MDVP:Shimmer(dB)"
   ]
  },
  {
   "cell_type": "code",
   "execution_count": 65,
   "metadata": {},
   "outputs": [
    {
     "name": "stdout",
     "output_type": "stream",
     "text": [
      "MDVP:Shimmer(dB): 0.03591463183396145\n"
     ]
    }
   ],
   "source": [
    "\n",
    "def calculate_shimmer(audio_file):\n",
    "    y, sr = librosa.load(audio_file, sr=None, mono=True)\n",
    "\n",
    "    # Calculate pitch using librosa\n",
    "    pitches, magnitudes = librosa.core.piptrack(y=y)\n",
    "\n",
    "    # Extract pitch contour\n",
    "    pitch_contour = []\n",
    "    for frame in pitches.T:\n",
    "        nonzero_values = frame[frame > 0]\n",
    "        if len(nonzero_values) > 0:\n",
    "            pitch_contour.append(np.mean(nonzero_values))\n",
    "        else:\n",
    "            pitch_contour.append(0)\n",
    "\n",
    "    # Calculate Shimmer\n",
    "    shimmer = np.mean(np.abs(np.diff(pitch_contour)))\n",
    "\n",
    "    # Normalize shimmer values\n",
    "    normalized_shimmer = shimmer / np.max(pitch_contour)\n",
    "\n",
    "    print(\"MDVP:Shimmer(dB):\", normalized_shimmer)\n",
    "\n",
    "\n",
    "calculate_shimmer('C:\\\\Users\\\\Leena\\\\Downloads\\\\trial1.mp3')\n"
   ]
  },
  {
   "cell_type": "markdown",
   "metadata": {},
   "source": [
    "MDVP:APQ"
   ]
  },
  {
   "cell_type": "code",
   "execution_count": 64,
   "metadata": {},
   "outputs": [
    {
     "name": "stdout",
     "output_type": "stream",
     "text": [
      "MDVP:APQ Value: 0.6477829217910767\n"
     ]
    }
   ],
   "source": [
    "\n",
    "def calculate_mdvp_apq(audio_file_path):\n",
    "\n",
    "    y, sr = librosa.load(audio_file_path)\n",
    "\n",
    "    amplitude_feature = extract_amplitude_feature(y)\n",
    "    perturbation_feature = extract_perturbation_feature(y)\n",
    "\n",
    "    mdvp_apq = amplitude_feature / perturbation_feature\n",
    "\n",
    "    return mdvp_apq\n",
    "\n",
    "def extract_amplitude_feature(audio_signal):\n",
    "    amplitude_feature = np.mean(np.abs(audio_signal))\n",
    "    return amplitude_feature\n",
    "\n",
    "def extract_perturbation_feature(audio_signal):\n",
    "    \n",
    "    perturbation_feature = np.std(audio_signal)\n",
    "    return perturbation_feature\n",
    "\n",
    "\n",
    "audio_file_path = \"C:\\\\Users\\\\Leena\\\\Downloads\\\\trial1.mp3\"\n",
    "mdvp_apq_value = calculate_mdvp_apq(audio_file_path)\n",
    "print(f\"MDVP:APQ Value: {mdvp_apq_value}\")\n"
   ]
  },
  {
   "cell_type": "markdown",
   "metadata": {},
   "source": [
    "MDVP:Shimmer"
   ]
  },
  {
   "cell_type": "code",
   "execution_count": 67,
   "metadata": {},
   "outputs": [
    {
     "name": "stdout",
     "output_type": "stream",
     "text": [
      "MDVP:Shimmer Value: 0.20039930939674377\n"
     ]
    }
   ],
   "source": [
    "\n",
    "\n",
    "def calculate_mdvp_shimmer(audio_file_path):\n",
    "    # Load the audio file\n",
    "    y, sr = librosa.load(audio_file_path)\n",
    "\n",
    "    # Extract relevant features using LibROSA or other libraries\n",
    "    # Here, you may need to replace these placeholders with the actual feature extraction code\n",
    "    amplitude_variation = extract_amplitude_variation(y)\n",
    "\n",
    "    # Calculate MDVP:Shimmer based on the extracted features\n",
    "    mdvp_shimmer = amplitude_variation / np.mean(np.abs(y))\n",
    "\n",
    "    return mdvp_shimmer\n",
    "\n",
    "def extract_amplitude_variation(audio_signal):\n",
    "    # Replace this placeholder with the actual code to extract amplitude variation feature\n",
    "    amplitude_variation = np.mean(np.abs(np.diff(audio_signal)))\n",
    "    return amplitude_variation\n",
    "\n",
    "# Example usage\n",
    "audio_file_path = \"C:\\\\Users\\\\Leena\\\\Downloads\\\\trial1.mp3\"\n",
    "mdvp_shimmer_value = calculate_mdvp_shimmer(audio_file_path)\n",
    "print(f\"MDVP:Shimmer Value: {mdvp_shimmer_value}\")\n"
   ]
  },
  {
   "cell_type": "code",
   "execution_count": null,
   "metadata": {},
   "outputs": [],
   "source": [
    "MDVP:F0"
   ]
  },
  {
   "cell_type": "code",
   "execution_count": 68,
   "metadata": {},
   "outputs": [
    {
     "name": "stdout",
     "output_type": "stream",
     "text": [
      "Average F0: 118.49143785323072 Hz\n"
     ]
    }
   ],
   "source": [
    "def calculate_average_f0(audio_file_path):\n",
    "    y, sr = librosa.load(audio_file_path)\n",
    "    f0, voiced_flag, voiced_probs = librosa.pyin(y, fmin=librosa.note_to_hz('C2'), fmax=librosa.note_to_hz('C7'))\n",
    "\n",
    "    # Calculate the average F0\n",
    "    average_f0 = np.mean(f0[voiced_flag])\n",
    "\n",
    "    return average_f0\n",
    "\n",
    "audio_file_path = \"C:\\\\Users\\\\Leena\\\\Downloads\\\\trial1.mp3\"\n",
    "average_f0_value = calculate_average_f0(audio_file_path)\n",
    "print(f\"Average F0: {average_f0_value} Hz\")\n"
   ]
  },
  {
   "cell_type": "markdown",
   "metadata": {},
   "source": [
    "MDVP:FHI"
   ]
  },
  {
   "cell_type": "code",
   "execution_count": 69,
   "metadata": {},
   "outputs": [
    {
     "name": "stdout",
     "output_type": "stream",
     "text": [
      "Maximum F0: 206.4563592676515 Hz\n"
     ]
    }
   ],
   "source": [
    "\n",
    "def calculate_max_f0(audio_file_path):\n",
    "\n",
    "    y, sr = librosa.load(audio_file_path)\n",
    "\n",
    "    # Extract the fundamental frequency (F0) using LibROSA\n",
    "    f0, voiced_flag, voiced_probs = librosa.pyin(y, fmin=librosa.note_to_hz('C2'), fmax=librosa.note_to_hz('C7'))\n",
    "\n",
    "    # Filter out unvoiced segments and calculate the maximum F0\n",
    "    max_f0 = np.max(f0[voiced_flag])\n",
    "\n",
    "    return max_f0\n",
    "\n",
    "audio_file_path = \"C:\\\\Users\\\\Leena\\\\Downloads\\\\trial1.mp3\"\n",
    "max_f0_value = calculate_max_f0(audio_file_path)\n",
    "print(f\"Maximum F0: {max_f0_value} Hz\")\n"
   ]
  },
  {
   "cell_type": "markdown",
   "metadata": {},
   "source": [
    "Shimmer:DDA"
   ]
  },
  {
   "cell_type": "code",
   "execution_count": null,
   "metadata": {},
   "outputs": [],
   "source": [
    "\n",
    "import librosa\n",
    "import numpy as np\n",
    "\n",
    "def calculate_shimmer_dda(audio_file_path):\n",
    "    # Load the audio file\n",
    "    y, sr = librosa.load(audio_file_path)\n",
    "\n",
    "    # Extract relevant features using LibROSA or other libraries\n",
    "    # Here, you may need to replace these placeholders with the actual feature extraction code\n",
    "    amplitude_variation = extract_amplitude_variation(y)\n",
    "\n",
    "    # Calculate Shimmer:DDA based on the extracted features\n",
    "    shimmer_dda = amplitude_variation / np.mean(np.abs(y))\n",
    "\n",
    "    return shimmer_dda\n",
    "\n",
    "def extract_amplitude_variation(audio_signal):\n",
    "    # Replace this placeholder with the actual code to extract amplitude variation feature\n",
    "    amplitude_variation = np.mean(np.abs(np.diff(audio_signal)))\n",
    "    return amplitude_variation\n",
    "\n",
    "# Example usage\n",
    "audio_file_path = \"C:\\\\Users\\\\Leena\\\\Downloads\\\\trial1.mp3\"\n",
    "shimmer_dda_value = calculate_shimmer_dda(audio_file_path)\n",
    "print(f\"Shimmer:DDA Value: {shimmer_dda_value}\")\n"
   ]
  },
  {
   "cell_type": "code",
   "execution_count": null,
   "metadata": {},
   "outputs": [],
   "source": []
  }
 ],
 "metadata": {
  "kernelspec": {
   "display_name": "Python 3 (ipykernel)",
   "language": "python",
   "name": "python3"
  },
  "language_info": {
   "codemirror_mode": {
    "name": "ipython",
    "version": 3
   },
   "file_extension": ".py",
   "mimetype": "text/x-python",
   "name": "python",
   "nbconvert_exporter": "python",
   "pygments_lexer": "ipython3",
   "version": "3.10.9"
  }
 },
 "nbformat": 4,
 "nbformat_minor": 2
}
